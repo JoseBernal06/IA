{
 "cells": [
  {
   "cell_type": "markdown",
   "metadata": {},
   "source": [
    "# Clase 2"
   ]
  },
  {
   "cell_type": "code",
   "execution_count": 20,
   "metadata": {},
   "outputs": [],
   "source": [
    "# Modelo de regrecion"
   ]
  },
  {
   "cell_type": "code",
   "execution_count": 5,
   "metadata": {},
   "outputs": [
    {
     "name": "stdout",
     "output_type": "stream",
     "text": [
      "Collecting pandas\n",
      "  Downloading pandas-2.2.3-cp313-cp313-win_amd64.whl.metadata (19 kB)\n",
      "Requirement already satisfied: numpy>=1.26.0 in c:\\users\\fundamentos ia\\appdata\\local\\programs\\python\\python313\\lib\\site-packages (from pandas) (2.1.2)\n",
      "Requirement already satisfied: python-dateutil>=2.8.2 in c:\\users\\fundamentos ia\\appdata\\roaming\\python\\python313\\site-packages (from pandas) (2.9.0.post0)\n",
      "Collecting pytz>=2020.1 (from pandas)\n",
      "  Downloading pytz-2024.2-py2.py3-none-any.whl.metadata (22 kB)\n",
      "Collecting tzdata>=2022.7 (from pandas)\n",
      "  Downloading tzdata-2024.2-py2.py3-none-any.whl.metadata (1.4 kB)\n",
      "Requirement already satisfied: six>=1.5 in c:\\users\\fundamentos ia\\appdata\\roaming\\python\\python313\\site-packages (from python-dateutil>=2.8.2->pandas) (1.16.0)\n",
      "Downloading pandas-2.2.3-cp313-cp313-win_amd64.whl (11.5 MB)\n",
      "   ---------------------------------------- 0.0/11.5 MB ? eta -:--:--\n",
      "   -------- ------------------------------- 2.4/11.5 MB 16.8 MB/s eta 0:00:01\n",
      "   ------------------------------- -------- 8.9/11.5 MB 24.5 MB/s eta 0:00:01\n",
      "   ---------------------------------------- 11.5/11.5 MB 24.3 MB/s eta 0:00:00\n",
      "Downloading pytz-2024.2-py2.py3-none-any.whl (508 kB)\n",
      "Downloading tzdata-2024.2-py2.py3-none-any.whl (346 kB)\n",
      "Installing collected packages: pytz, tzdata, pandas\n",
      "Successfully installed pandas-2.2.3 pytz-2024.2 tzdata-2024.2\n",
      "Note: you may need to restart the kernel to use updated packages.\n"
     ]
    }
   ],
   "source": [
    "pip install pandas"
   ]
  },
  {
   "cell_type": "code",
   "execution_count": 2,
   "metadata": {},
   "outputs": [
    {
     "name": "stdout",
     "output_type": "stream",
     "text": [
      "Requirement already satisfied: scikit-learn in c:\\users\\fundamentos ia\\appdata\\local\\programs\\python\\python313\\lib\\site-packages (1.5.2)\n",
      "Requirement already satisfied: numpy>=1.19.5 in c:\\users\\fundamentos ia\\appdata\\local\\programs\\python\\python313\\lib\\site-packages (from scikit-learn) (2.1.2)\n",
      "Requirement already satisfied: scipy>=1.6.0 in c:\\users\\fundamentos ia\\appdata\\local\\programs\\python\\python313\\lib\\site-packages (from scikit-learn) (1.14.1)\n",
      "Requirement already satisfied: joblib>=1.2.0 in c:\\users\\fundamentos ia\\appdata\\local\\programs\\python\\python313\\lib\\site-packages (from scikit-learn) (1.4.2)\n",
      "Requirement already satisfied: threadpoolctl>=3.1.0 in c:\\users\\fundamentos ia\\appdata\\local\\programs\\python\\python313\\lib\\site-packages (from scikit-learn) (3.5.0)\n",
      "Note: you may need to restart the kernel to use updated packages.\n"
     ]
    }
   ],
   "source": [
    "pip install scikit-learn"
   ]
  },
  {
   "cell_type": "code",
   "execution_count": 24,
   "metadata": {},
   "outputs": [],
   "source": [
    "import pandas as pd\n",
    "from sklearn.model_selection import train_test_split\n",
    "from sklearn.linear_model import LinearRegression\n",
    "from sklearn.metrics import mean_squared_error, r2_score"
   ]
  },
  {
   "cell_type": "code",
   "execution_count": 19,
   "metadata": {},
   "outputs": [
    {
     "name": "stdout",
     "output_type": "stream",
     "text": [
      "   YearsExperience   Salary\n",
      "0             10.3  2500.00\n",
      "1             10.5  2489.40\n",
      "2              9.5  2389.25\n",
      "3              8.2  2324.76\n",
      "4              9.6  2300.72\n",
      "       YearsExperience       Salary\n",
      "count        30.000000    30.000000\n",
      "mean          5.313333  1552.462667\n",
      "std           2.837888   559.975954\n",
      "min           1.100000   770.710000\n",
      "25%           3.200000  1158.597500\n",
      "50%           4.700000  1332.555000\n",
      "75%           7.700000  2053.762500\n",
      "max          10.500000  2500.000000\n"
     ]
    }
   ],
   "source": [
    "# leer archivo\n",
    "datos = pd.read_csv(\"./archivos/Salary_Data1.csv\")\n",
    "print(datos.head())\n",
    "print(datos.describe())"
   ]
  },
  {
   "cell_type": "code",
   "execution_count": 25,
   "metadata": {},
   "outputs": [
    {
     "name": "stdout",
     "output_type": "stream",
     "text": [
      "El error cuadratico medio es:  8113.263541520326\n",
      "El coeficiente de determinacion es:  0.9804423372375342\n"
     ]
    }
   ],
   "source": [
    "# separamos las caracteristicas en x y y\n",
    "x=datos[['YearsExperience']]\n",
    "y=datos[['Salary']]\n",
    "\n",
    "# Divide en dos partes los datos de prueba\n",
    "x_train, x_test, y_train, y_test=train_test_split(x,y, test_size=0.2, random_state=123)\n",
    "\n",
    "# crear modelo \n",
    "modelo=LinearRegression()\n",
    "\n",
    "# entrenamos el modelo\n",
    "modelo.fit(x_train, y_train)\n",
    "\n",
    "# se realizan las predicciones\n",
    "# determina las salidas x_test\n",
    "y_obt=modelo.predict(x_test)\n",
    "\n",
    "error=mean_squared_error(y_test, y_obt)\n",
    "r2=r2_score(y_test, y_obt)\n",
    "\n",
    "print(\"El error cuadratico medio es: \", error)\n",
    "print(\"El coeficiente de determinacion es: \", r2)"
   ]
  }
 ],
 "metadata": {
  "kernelspec": {
   "display_name": "Python 3",
   "language": "python",
   "name": "python3"
  },
  "language_info": {
   "codemirror_mode": {
    "name": "ipython",
    "version": 3
   },
   "file_extension": ".py",
   "mimetype": "text/x-python",
   "name": "python",
   "nbconvert_exporter": "python",
   "pygments_lexer": "ipython3",
   "version": "3.13.0"
  }
 },
 "nbformat": 4,
 "nbformat_minor": 2
}
